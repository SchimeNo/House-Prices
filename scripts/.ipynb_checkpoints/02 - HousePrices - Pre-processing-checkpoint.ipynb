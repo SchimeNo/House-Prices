{
 "cells": [
  {
   "cell_type": "markdown",
   "metadata": {},
   "source": [
    "#  Feature Selection #"
   ]
  },
  {
   "cell_type": "code",
   "execution_count": 2,
   "metadata": {},
   "outputs": [],
   "source": [
    "#Load libraries\n",
    "\n",
    "#!pip install pyforest\n",
    "from pyforest import *\n",
    "import tsfresh\n"
   ]
  },
  {
   "cell_type": "code",
   "execution_count": 38,
   "metadata": {},
   "outputs": [],
   "source": [
    "#LOAD DATA\n",
    "df_train=pd.read_csv('C:/Users/Sergi Ch/Downloads/UBIQUM/@a SAMPLE PROJECTS/House Prices/House Prices/datasets/train.csv')\n",
    "df_train_aux=df_train"
   ]
  },
  {
   "cell_type": "markdown",
   "metadata": {},
   "source": [
    "### PREPARING THE DATA ###"
   ]
  },
  {
   "cell_type": "code",
   "execution_count": 39,
   "metadata": {},
   "outputs": [
    {
     "data": {
      "text/plain": [
       "0"
      ]
     },
     "execution_count": 39,
     "metadata": {},
     "output_type": "execute_result"
    }
   ],
   "source": [
    "#Data Cleaning\n",
    "\n",
    "#missing data\n",
    "total = df_train.isnull().sum().sort_values(ascending=False)\n",
    "percent = (df_train.isnull().sum()/df_train.isnull().count()).sort_values(ascending=False)\n",
    "missing_data = pd.concat([total, percent], axis=1, keys=['Total', 'Percent'])\n",
    "missing_data.head(20)\n",
    "#dealing with missing data\n",
    "df_train = df_train.drop((missing_data[missing_data['Total'] > 1]).index,1)\n",
    "df_train = df_train.drop(df_train.loc[df_train['Electrical'].isnull()].index)\n",
    "df_train.isnull().sum().max() #just checking that there's no missing data missing..."
   ]
  },
  {
   "cell_type": "markdown",
   "metadata": {},
   "source": [
    "#### FEATURE SELECTION with tsfresh (only numeric)"
   ]
  },
  {
   "cell_type": "code",
   "execution_count": 43,
   "metadata": {},
   "outputs": [
    {
     "name": "stdout",
     "output_type": "stream",
     "text": [
      "TSFRESH: Numeric Variables 34\n"
     ]
    }
   ],
   "source": [
    "\n",
    "\n",
    "Y=df_train['SalePrice']\n",
    "X=df_train.loc[:, df_train.columns != 'SalePrice']\n",
    "\n",
    "Xnum=X.select_dtypes(exclude=['object']) #exclude object variables\n",
    "\n",
    "\n",
    "features=tsfresh.feature_selection.relevance.calculate_relevance_table(Xnum, Y, ml_task='regression', n_jobs=2, chunksize=None, test_for_binary_target_binary_feature='fisher', test_for_binary_target_real_feature='mann', test_for_real_target_binary_feature='mann', test_for_real_target_real_feature='kendall', fdr_level=0.05, hypotheses_independent=False)\n",
    "#features\n",
    "print('TSFRESH: Numeric Variables ' + str(len(Xnum.columns)))"
   ]
  },
  {
   "cell_type": "code",
   "execution_count": 44,
   "metadata": {},
   "outputs": [
    {
     "name": "stdout",
     "output_type": "stream",
     "text": [
      "TSFRESH: Relevant Variables 25\n"
     ]
    }
   ],
   "source": [
    "#Selecting features by tsfresh\n",
    "\n",
    "features=features[features['relevant']==True]\n",
    "#cols = ['OverallQual', 'GrLivArea', 'GarageCars', 'TotalBsmtSF', 'FullBath', 'YearBuilt']\n",
    "X_tsfresh=df_train[features.index]\n",
    "\n",
    "print('TSFRESH: Relevant Variables ' + str(len(X_tsfresh.columns)))"
   ]
  },
  {
   "cell_type": "markdown",
   "metadata": {},
   "source": [
    "### Univariate Statistical Tests (Chi-squared for classification)###\n",
    "\n",
    "test for non-negative features to select 4 of the best features "
   ]
  },
  {
   "cell_type": "code",
   "execution_count": 50,
   "metadata": {},
   "outputs": [
    {
     "data": {
      "text/plain": [
       "array([[ 8450,   706,   854,     0],\n",
       "       [ 9600,   978,     0,     0],\n",
       "       [11250,   486,   866,     0],\n",
       "       ...,\n",
       "       [ 9042,   275,  1152,  2500],\n",
       "       [ 9717,    49,     0,     0],\n",
       "       [ 9937,   830,     0,     0]], dtype=int64)"
      ]
     },
     "execution_count": 50,
     "metadata": {},
     "output_type": "execute_result"
    }
   ],
   "source": [
    "\n",
    "from sklearn.feature_selection import SelectKBest\n",
    "from sklearn.feature_selection import chi2\n",
    "test=SelectKBest(score_func=chi2, k=4)\n",
    "fit=test.fit(Xnum,Y)\n",
    "# summarize scores\n",
    "scores=fit.scores_ #choose attributes with the highest scores (plas, test, mass and age.)\n",
    "features=fit.transform(Xnum)\n",
    "features"
   ]
  },
  {
   "cell_type": "markdown",
   "metadata": {},
   "source": [
    "### PCA Principal Component Analysis ###"
   ]
  },
  {
   "cell_type": "code",
   "execution_count": 52,
   "metadata": {},
   "outputs": [
    {
     "data": {
      "text/plain": [
       "array([[-1.40107935e-03, -5.92564918e-04,  9.99703598e-01,\n",
       "         1.47948455e-05, -6.56967736e-07,  4.51001872e-05,\n",
       "         2.98008527e-05,  9.82205508e-03,  1.79634465e-03,\n",
       "        -1.03047730e-04,  1.15153520e-02,  1.16449561e-02,\n",
       "         2.24581208e-03,  2.34664637e-05,  1.39142347e-02,\n",
       "         8.24329534e-06,  1.14832507e-06,  7.00212224e-06,\n",
       "         7.36489606e-07,  9.81291291e-06, -3.91741105e-07,\n",
       "         3.10885354e-05,  1.75635949e-05,  1.16577859e-05,\n",
       "         3.88286516e-03,  2.16116886e-03,  5.65671133e-04,\n",
       "        -1.13075718e-04,  6.01290563e-05,  2.41916038e-04,\n",
       "         3.13681988e-04,  1.89397779e-03,  3.33651299e-07,\n",
       "        -1.89986420e-06],\n",
       "       [ 1.19919607e-02, -3.15408496e-03, -2.26307287e-02,\n",
       "         1.32246738e-03, -2.48749028e-04,  1.57473934e-02,\n",
       "         1.06716659e-02,  2.36445179e-01, -9.73179981e-03,\n",
       "         2.58122350e-01,  4.84835729e-01,  4.25362755e-01,\n",
       "         1.94288095e-01,  3.19270023e-03,  6.22843550e-01,\n",
       "         1.01282227e-04, -1.13044606e-05,  4.48208079e-04,\n",
       "         1.60957862e-04,  3.77079905e-04,  1.27657045e-05,\n",
       "         1.49677487e-03,  3.79707989e-04,  5.79000346e-04,\n",
       "         1.73627897e-01,  4.40470178e-02,  3.11591538e-02,\n",
       "        -4.50945466e-03,  1.38875296e-03,  7.44490809e-03,\n",
       "         8.73923326e-03, -3.78954416e-02,  1.68295788e-04,\n",
       "        -5.60423480e-05],\n",
       "       [-5.06929267e-03, -1.88354967e-02, -5.64714227e-03,\n",
       "        -1.64038103e-04, -1.03497380e-04,  8.21020445e-03,\n",
       "        -6.17287741e-04,  5.19850213e-01,  2.78357157e-02,\n",
       "        -2.14504664e-01,  3.33181265e-01,  2.56235248e-01,\n",
       "        -6.09436718e-01, -9.62822562e-03, -3.62829695e-01,\n",
       "         4.46334698e-04,  2.28422635e-05, -2.65279750e-04,\n",
       "        -3.74247148e-04, -6.21465199e-04, -3.95381000e-05,\n",
       "        -1.24099861e-03, -1.21075685e-05, -1.29756308e-06,\n",
       "         2.66453646e-02,  1.02683250e-02, -9.80423956e-03,\n",
       "        -1.13425022e-02,  1.44521539e-03,  7.04173235e-04,\n",
       "         1.10188616e-03, -4.03071580e-02, -1.65803290e-04,\n",
       "         7.45129459e-05]])"
      ]
     },
     "execution_count": 52,
     "metadata": {},
     "output_type": "execute_result"
    }
   ],
   "source": [
    "from sklearn.decomposition import PCA\n",
    "pca = PCA(n_components=3) #extracting 3 principal components\n",
    "fit=pca.fit(Xnum)\n",
    "#info\n",
    "fit.explained_variance_ratio_ #Explained Variance\n",
    "fit.components_\n"
   ]
  },
  {
   "cell_type": "markdown",
   "metadata": {},
   "source": [
    "### Feature Importance ###\n",
    "Random Forest and Extra Trees can be used to estimate the importance of features.\n"
   ]
  },
  {
   "cell_type": "code",
   "execution_count": 73,
   "metadata": {},
   "outputs": [
    {
     "name": "stderr",
     "output_type": "stream",
     "text": [
      "C:\\Anaconda3\\lib\\site-packages\\sklearn\\ensemble\\forest.py:246: FutureWarning: The default value of n_estimators will change from 10 in version 0.20 to 100 in 0.22.\n",
      "  \"10 in version 0.20 to 100 in 0.22.\", FutureWarning)\n"
     ]
    },
    {
     "data": {
      "text/plain": [
       "array([0.05274496, 0.02619448, 0.05112038, 0.0339979 , 0.03057696,\n",
       "       0.04920959, 0.04710178, 0.04407732, 0.0135622 , 0.05047915,\n",
       "       0.04824255, 0.04879069, 0.02897279, 0.00231905, 0.0489909 ,\n",
       "       0.02189962, 0.00588025, 0.01313004, 0.01539543, 0.02877517,\n",
       "       0.00368293, 0.03628846, 0.02400248, 0.01978071, 0.04865171,\n",
       "       0.03859701, 0.03843412, 0.01730178, 0.00337825, 0.01235179,\n",
       "       0.000794  , 0.0054243 , 0.04889229, 0.04095897])"
      ]
     },
     "execution_count": 73,
     "metadata": {},
     "output_type": "execute_result"
    }
   ],
   "source": [
    "from sklearn.ensemble import ExtraTreesClassifier\n",
    "# feature extraction\n",
    "model = ExtraTreesClassifier()\n",
    "model.fit(Xnum, Y)\n",
    "model.feature_importances_"
   ]
  },
  {
   "cell_type": "code",
   "execution_count": 84,
   "metadata": {},
   "outputs": [
    {
     "data": {
      "text/html": [
       "<div>\n",
       "<style scoped>\n",
       "    .dataframe tbody tr th:only-of-type {\n",
       "        vertical-align: middle;\n",
       "    }\n",
       "\n",
       "    .dataframe tbody tr th {\n",
       "        vertical-align: top;\n",
       "    }\n",
       "\n",
       "    .dataframe thead th {\n",
       "        text-align: right;\n",
       "    }\n",
       "</style>\n",
       "<table border=\"1\" class=\"dataframe\">\n",
       "  <thead>\n",
       "    <tr style=\"text-align: right;\">\n",
       "      <th></th>\n",
       "      <th>0</th>\n",
       "      <th>1</th>\n",
       "    </tr>\n",
       "  </thead>\n",
       "  <tbody>\n",
       "    <tr>\n",
       "      <th>0</th>\n",
       "      <td>Id</td>\n",
       "      <td>0.052745</td>\n",
       "    </tr>\n",
       "    <tr>\n",
       "      <th>2</th>\n",
       "      <td>LotArea</td>\n",
       "      <td>0.051120</td>\n",
       "    </tr>\n",
       "    <tr>\n",
       "      <th>9</th>\n",
       "      <td>BsmtUnfSF</td>\n",
       "      <td>0.050479</td>\n",
       "    </tr>\n",
       "    <tr>\n",
       "      <th>5</th>\n",
       "      <td>YearBuilt</td>\n",
       "      <td>0.049210</td>\n",
       "    </tr>\n",
       "    <tr>\n",
       "      <th>14</th>\n",
       "      <td>GrLivArea</td>\n",
       "      <td>0.048991</td>\n",
       "    </tr>\n",
       "    <tr>\n",
       "      <th>32</th>\n",
       "      <td>MoSold</td>\n",
       "      <td>0.048892</td>\n",
       "    </tr>\n",
       "    <tr>\n",
       "      <th>11</th>\n",
       "      <td>1stFlrSF</td>\n",
       "      <td>0.048791</td>\n",
       "    </tr>\n",
       "    <tr>\n",
       "      <th>24</th>\n",
       "      <td>GarageArea</td>\n",
       "      <td>0.048652</td>\n",
       "    </tr>\n",
       "    <tr>\n",
       "      <th>10</th>\n",
       "      <td>TotalBsmtSF</td>\n",
       "      <td>0.048243</td>\n",
       "    </tr>\n",
       "    <tr>\n",
       "      <th>6</th>\n",
       "      <td>YearRemodAdd</td>\n",
       "      <td>0.047102</td>\n",
       "    </tr>\n",
       "    <tr>\n",
       "      <th>7</th>\n",
       "      <td>BsmtFinSF1</td>\n",
       "      <td>0.044077</td>\n",
       "    </tr>\n",
       "    <tr>\n",
       "      <th>33</th>\n",
       "      <td>YrSold</td>\n",
       "      <td>0.040959</td>\n",
       "    </tr>\n",
       "    <tr>\n",
       "      <th>25</th>\n",
       "      <td>WoodDeckSF</td>\n",
       "      <td>0.038597</td>\n",
       "    </tr>\n",
       "    <tr>\n",
       "      <th>26</th>\n",
       "      <td>OpenPorchSF</td>\n",
       "      <td>0.038434</td>\n",
       "    </tr>\n",
       "    <tr>\n",
       "      <th>21</th>\n",
       "      <td>TotRmsAbvGrd</td>\n",
       "      <td>0.036288</td>\n",
       "    </tr>\n",
       "    <tr>\n",
       "      <th>3</th>\n",
       "      <td>OverallQual</td>\n",
       "      <td>0.033998</td>\n",
       "    </tr>\n",
       "    <tr>\n",
       "      <th>4</th>\n",
       "      <td>OverallCond</td>\n",
       "      <td>0.030577</td>\n",
       "    </tr>\n",
       "    <tr>\n",
       "      <th>12</th>\n",
       "      <td>2ndFlrSF</td>\n",
       "      <td>0.028973</td>\n",
       "    </tr>\n",
       "    <tr>\n",
       "      <th>19</th>\n",
       "      <td>BedroomAbvGr</td>\n",
       "      <td>0.028775</td>\n",
       "    </tr>\n",
       "    <tr>\n",
       "      <th>1</th>\n",
       "      <td>MSSubClass</td>\n",
       "      <td>0.026194</td>\n",
       "    </tr>\n",
       "    <tr>\n",
       "      <th>22</th>\n",
       "      <td>Fireplaces</td>\n",
       "      <td>0.024002</td>\n",
       "    </tr>\n",
       "    <tr>\n",
       "      <th>15</th>\n",
       "      <td>BsmtFullBath</td>\n",
       "      <td>0.021900</td>\n",
       "    </tr>\n",
       "    <tr>\n",
       "      <th>23</th>\n",
       "      <td>GarageCars</td>\n",
       "      <td>0.019781</td>\n",
       "    </tr>\n",
       "    <tr>\n",
       "      <th>27</th>\n",
       "      <td>EnclosedPorch</td>\n",
       "      <td>0.017302</td>\n",
       "    </tr>\n",
       "    <tr>\n",
       "      <th>18</th>\n",
       "      <td>HalfBath</td>\n",
       "      <td>0.015395</td>\n",
       "    </tr>\n",
       "    <tr>\n",
       "      <th>8</th>\n",
       "      <td>BsmtFinSF2</td>\n",
       "      <td>0.013562</td>\n",
       "    </tr>\n",
       "    <tr>\n",
       "      <th>17</th>\n",
       "      <td>FullBath</td>\n",
       "      <td>0.013130</td>\n",
       "    </tr>\n",
       "    <tr>\n",
       "      <th>29</th>\n",
       "      <td>ScreenPorch</td>\n",
       "      <td>0.012352</td>\n",
       "    </tr>\n",
       "    <tr>\n",
       "      <th>16</th>\n",
       "      <td>BsmtHalfBath</td>\n",
       "      <td>0.005880</td>\n",
       "    </tr>\n",
       "    <tr>\n",
       "      <th>31</th>\n",
       "      <td>MiscVal</td>\n",
       "      <td>0.005424</td>\n",
       "    </tr>\n",
       "    <tr>\n",
       "      <th>20</th>\n",
       "      <td>KitchenAbvGr</td>\n",
       "      <td>0.003683</td>\n",
       "    </tr>\n",
       "    <tr>\n",
       "      <th>28</th>\n",
       "      <td>3SsnPorch</td>\n",
       "      <td>0.003378</td>\n",
       "    </tr>\n",
       "    <tr>\n",
       "      <th>13</th>\n",
       "      <td>LowQualFinSF</td>\n",
       "      <td>0.002319</td>\n",
       "    </tr>\n",
       "    <tr>\n",
       "      <th>30</th>\n",
       "      <td>PoolArea</td>\n",
       "      <td>0.000794</td>\n",
       "    </tr>\n",
       "  </tbody>\n",
       "</table>\n",
       "</div>"
      ],
      "text/plain": [
       "                0         1\n",
       "0              Id  0.052745\n",
       "2         LotArea  0.051120\n",
       "9       BsmtUnfSF  0.050479\n",
       "5       YearBuilt  0.049210\n",
       "14      GrLivArea  0.048991\n",
       "32         MoSold  0.048892\n",
       "11       1stFlrSF  0.048791\n",
       "24     GarageArea  0.048652\n",
       "10    TotalBsmtSF  0.048243\n",
       "6    YearRemodAdd  0.047102\n",
       "7      BsmtFinSF1  0.044077\n",
       "33         YrSold  0.040959\n",
       "25     WoodDeckSF  0.038597\n",
       "26    OpenPorchSF  0.038434\n",
       "21   TotRmsAbvGrd  0.036288\n",
       "3     OverallQual  0.033998\n",
       "4     OverallCond  0.030577\n",
       "12       2ndFlrSF  0.028973\n",
       "19   BedroomAbvGr  0.028775\n",
       "1      MSSubClass  0.026194\n",
       "22     Fireplaces  0.024002\n",
       "15   BsmtFullBath  0.021900\n",
       "23     GarageCars  0.019781\n",
       "27  EnclosedPorch  0.017302\n",
       "18       HalfBath  0.015395\n",
       "8      BsmtFinSF2  0.013562\n",
       "17       FullBath  0.013130\n",
       "29    ScreenPorch  0.012352\n",
       "16   BsmtHalfBath  0.005880\n",
       "31        MiscVal  0.005424\n",
       "20   KitchenAbvGr  0.003683\n",
       "28      3SsnPorch  0.003378\n",
       "13   LowQualFinSF  0.002319\n",
       "30       PoolArea  0.000794"
      ]
     },
     "execution_count": 84,
     "metadata": {},
     "output_type": "execute_result"
    }
   ],
   "source": [
    "#CHECK RESULTS\n",
    "\n",
    "results=pd.concat([pd.DataFrame(Xnum.columns), pd.DataFrame(model.feature_importances_) ], axis=1, ignore_index=True)\n",
    "results=results.sort_values(by=[1], ascending=False)\n",
    "results"
   ]
  }
 ],
 "metadata": {
  "kernelspec": {
   "display_name": "Python 3",
   "language": "python",
   "name": "python3"
  },
  "language_info": {
   "codemirror_mode": {
    "name": "ipython",
    "version": 3
   },
   "file_extension": ".py",
   "mimetype": "text/x-python",
   "name": "python",
   "nbconvert_exporter": "python",
   "pygments_lexer": "ipython3",
   "version": "3.7.3"
  }
 },
 "nbformat": 4,
 "nbformat_minor": 2
}
