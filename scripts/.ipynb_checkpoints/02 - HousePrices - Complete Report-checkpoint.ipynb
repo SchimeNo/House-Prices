{
 "cells": [
  {
   "cell_type": "code",
   "execution_count": 4,
   "metadata": {},
   "outputs": [],
   "source": [
    "# Python Project Template\n",
    "\n",
    "# 1. Prepare Problem\n",
    "# a) Load libraries\n",
    "# b) Load dataset\n",
    "\n",
    "# 2. Summarize Data\n",
    "# a) Descriptive statistics\n",
    "# b) Data visualizations\n",
    "\n",
    "# 3. Prepare Data\n",
    "# a) Data Cleaning\n",
    "# b) Feature Selection\n",
    "# c) Data Transforms\n",
    "\n",
    "# 4. Evaluate Algorithms\n",
    "# a) Split-out validation dataset\n",
    "# b) Test options and evaluation metric\n",
    "# c) Spot Check Algorithms\n",
    "# d) Compare Algorithms\n",
    "\n",
    "# 5. Improve Accuracy\n",
    "# a) Algorithm Tuning\n",
    "# b) Ensembles\n",
    "\n",
    "# 6. Finalize Model\n",
    "# a) Predictions on validation dataset\n",
    "# b) Create standalone model on entire training dataset\n",
    "# c) Save model for later use"
   ]
  },
  {
   "cell_type": "code",
   "execution_count": 8,
   "metadata": {},
   "outputs": [],
   "source": [
    "#Load libraries\n",
    "\n",
    "#!pip install pyforest\n",
    "from pyforest import *\n"
   ]
  },
  {
   "cell_type": "code",
   "execution_count": 10,
   "metadata": {},
   "outputs": [],
   "source": [
    "#LOAD DATA\n",
    "df_train=pd.read_csv('C:/Users/Sergi Ch/Downloads/UBIQUM/@a SAMPLE PROJECTS/House Prices/House Prices/datasets/train.csv')\n",
    "df_train_aux=df_train"
   ]
  },
  {
   "cell_type": "code",
   "execution_count": null,
   "metadata": {},
   "outputs": [],
   "source": [
    "# 3. Prepare Data\n",
    "# a) Data Cleaning\n",
    "# b) Feature Selection\n",
    "# c) Data Transforms"
   ]
  },
  {
   "cell_type": "code",
   "execution_count": 12,
   "metadata": {},
   "outputs": [
    {
     "data": {
      "text/plain": [
       "0"
      ]
     },
     "execution_count": 12,
     "metadata": {},
     "output_type": "execute_result"
    }
   ],
   "source": [
    "#Data Cleaning\n",
    "\n",
    "#missing data\n",
    "total = df_train.isnull().sum().sort_values(ascending=False)\n",
    "percent = (df_train.isnull().sum()/df_train.isnull().count()).sort_values(ascending=False)\n",
    "missing_data = pd.concat([total, percent], axis=1, keys=['Total', 'Percent'])\n",
    "missing_data.head(20)\n",
    "#dealing with missing data\n",
    "df_train = df_train.drop((missing_data[missing_data['Total'] > 1]).index,1)\n",
    "df_train = df_train.drop(df_train.loc[df_train['Electrical'].isnull()].index)\n",
    "df_train.isnull().sum().max() #just checking that there's no missing data missing..."
   ]
  },
  {
   "cell_type": "code",
   "execution_count": 24,
   "metadata": {},
   "outputs": [
    {
     "data": {
      "text/plain": [
       "feature\n",
       "OverallQual       True\n",
       "GrLivArea         True\n",
       "GarageCars        True\n",
       "GarageArea        True\n",
       "YearBuilt         True\n",
       "TotalBsmtSF       True\n",
       "FullBath          True\n",
       "1stFlrSF          True\n",
       "YearRemodAdd      True\n",
       "TotRmsAbvGrd      True\n",
       "Fireplaces        True\n",
       "OpenPorchSF       True\n",
       "LotArea           True\n",
       "WoodDeckSF        True\n",
       "HalfBath          True\n",
       "BsmtFinSF1        True\n",
       "2ndFlrSF          True\n",
       "BedroomAbvGr      True\n",
       "BsmtFullBath      True\n",
       "EnclosedPorch     True\n",
       "BsmtUnfSF         True\n",
       "KitchenAbvGr      True\n",
       "OverallCond       True\n",
       "ScreenPorch       True\n",
       "MoSold            True\n",
       "LowQualFinSF     False\n",
       "3SsnPorch        False\n",
       "MiscVal          False\n",
       "PoolArea         False\n",
       "BsmtFinSF2       False\n",
       "YrSold           False\n",
       "Id               False\n",
       "BsmtHalfBath     False\n",
       "MSSubClass       False\n",
       "Name: relevant, dtype: bool"
      ]
     },
     "execution_count": 24,
     "metadata": {},
     "output_type": "execute_result"
    }
   ],
   "source": [
    "#FEATURE SELECTION with tsfresh (only numeric)\n",
    "df_train=df_train.select_dtypes(exclude=['object'])\n",
    "features=tsfresh.feature_selection.relevance.calculate_relevance_table(df_train.loc[:, df_train.columns != 'SalePrice'], df_train['SalePrice'], ml_task='regression', n_jobs=2, chunksize=None, test_for_binary_target_binary_feature='fisher', test_for_binary_target_real_feature='mann', test_for_real_target_binary_feature='mann', test_for_real_target_real_feature='kendall', fdr_level=0.05, hypotheses_independent=False)"
   ]
  },
  {
   "cell_type": "code",
   "execution_count": 41,
   "metadata": {},
   "outputs": [
    {
     "data": {
      "text/plain": [
       "feature\n",
       "GarageCars        GarageCars\n",
       "GarageArea        GarageArea\n",
       "YearBuilt          YearBuilt\n",
       "TotalBsmtSF      TotalBsmtSF\n",
       "FullBath            FullBath\n",
       "1stFlrSF            1stFlrSF\n",
       "YearRemodAdd    YearRemodAdd\n",
       "TotRmsAbvGrd    TotRmsAbvGrd\n",
       "Name: feature, dtype: object"
      ]
     },
     "execution_count": 41,
     "metadata": {},
     "output_type": "execute_result"
    }
   ],
   "source": [
    "\n",
    "cols=features.loc[features['relevant'] == True].feature\n",
    "cols[2:10,]"
   ]
  },
  {
   "cell_type": "code",
   "execution_count": 15,
   "metadata": {},
   "outputs": [],
   "source": [
    "#Feature Selection\n",
    "\n",
    "Y=df_train['SalePrice']\n",
    "\n",
    "cols = ['OverallQual', 'GrLivArea', 'GarageCars', 'TotalBsmtSF', 'FullBath', 'YearBuilt']\n",
    "X=df_train[cols]\n"
   ]
  },
  {
   "cell_type": "code",
   "execution_count": 18,
   "metadata": {},
   "outputs": [
    {
     "data": {
      "text/html": [
       "<div>\n",
       "<style scoped>\n",
       "    .dataframe tbody tr th:only-of-type {\n",
       "        vertical-align: middle;\n",
       "    }\n",
       "\n",
       "    .dataframe tbody tr th {\n",
       "        vertical-align: top;\n",
       "    }\n",
       "\n",
       "    .dataframe thead th {\n",
       "        text-align: right;\n",
       "    }\n",
       "</style>\n",
       "<table border=\"1\" class=\"dataframe\">\n",
       "  <thead>\n",
       "    <tr style=\"text-align: right;\">\n",
       "      <th></th>\n",
       "      <th>feature</th>\n",
       "      <th>type</th>\n",
       "      <th>p_value</th>\n",
       "      <th>relevant</th>\n",
       "    </tr>\n",
       "    <tr>\n",
       "      <th>feature</th>\n",
       "      <th></th>\n",
       "      <th></th>\n",
       "      <th></th>\n",
       "      <th></th>\n",
       "    </tr>\n",
       "  </thead>\n",
       "  <tbody>\n",
       "    <tr>\n",
       "      <th>OverallQual</th>\n",
       "      <td>OverallQual</td>\n",
       "      <td>real</td>\n",
       "      <td>6.813626e-268</td>\n",
       "      <td>True</td>\n",
       "    </tr>\n",
       "    <tr>\n",
       "      <th>GrLivArea</th>\n",
       "      <td>GrLivArea</td>\n",
       "      <td>real</td>\n",
       "      <td>7.469035e-212</td>\n",
       "      <td>True</td>\n",
       "    </tr>\n",
       "    <tr>\n",
       "      <th>GarageCars</th>\n",
       "      <td>GarageCars</td>\n",
       "      <td>real</td>\n",
       "      <td>6.132723e-176</td>\n",
       "      <td>True</td>\n",
       "    </tr>\n",
       "    <tr>\n",
       "      <th>YearBuilt</th>\n",
       "      <td>YearBuilt</td>\n",
       "      <td>real</td>\n",
       "      <td>2.380142e-157</td>\n",
       "      <td>True</td>\n",
       "    </tr>\n",
       "    <tr>\n",
       "      <th>TotalBsmtSF</th>\n",
       "      <td>TotalBsmtSF</td>\n",
       "      <td>real</td>\n",
       "      <td>1.928089e-136</td>\n",
       "      <td>True</td>\n",
       "    </tr>\n",
       "    <tr>\n",
       "      <th>FullBath</th>\n",
       "      <td>FullBath</td>\n",
       "      <td>real</td>\n",
       "      <td>5.309088e-133</td>\n",
       "      <td>True</td>\n",
       "    </tr>\n",
       "  </tbody>\n",
       "</table>\n",
       "</div>"
      ],
      "text/plain": [
       "                 feature  type        p_value  relevant\n",
       "feature                                                \n",
       "OverallQual  OverallQual  real  6.813626e-268      True\n",
       "GrLivArea      GrLivArea  real  7.469035e-212      True\n",
       "GarageCars    GarageCars  real  6.132723e-176      True\n",
       "YearBuilt      YearBuilt  real  2.380142e-157      True\n",
       "TotalBsmtSF  TotalBsmtSF  real  1.928089e-136      True\n",
       "FullBath        FullBath  real  5.309088e-133      True"
      ]
     },
     "execution_count": 18,
     "metadata": {},
     "output_type": "execute_result"
    }
   ],
   "source": [
    "#FEATURE SELECTION\n",
    "import tsfresh\n",
    "tsfresh.feature_selection.relevance.calculate_relevance_table(X, Y, ml_task='regression', n_jobs=2, chunksize=None, test_for_binary_target_binary_feature='fisher', test_for_binary_target_real_feature='mann', test_for_real_target_binary_feature='mann', test_for_real_target_real_feature='kendall', fdr_level=0.05, hypotheses_independent=False)"
   ]
  },
  {
   "cell_type": "code",
   "execution_count": null,
   "metadata": {},
   "outputs": [],
   "source": [
    "#COLUMNS THAT WILL BE USED\n",
    "#\n",
    "df"
   ]
  }
 ],
 "metadata": {
  "kernelspec": {
   "display_name": "Python 3",
   "language": "python",
   "name": "python3"
  },
  "language_info": {
   "codemirror_mode": {
    "name": "ipython",
    "version": 3
   },
   "file_extension": ".py",
   "mimetype": "text/x-python",
   "name": "python",
   "nbconvert_exporter": "python",
   "pygments_lexer": "ipython3",
   "version": "3.7.3"
  }
 },
 "nbformat": 4,
 "nbformat_minor": 2
}
